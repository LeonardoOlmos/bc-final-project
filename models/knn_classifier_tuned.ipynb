{
 "cells": [
  {
   "cell_type": "markdown",
   "id": "d23a4881-79fb-4977-8f3d-daefe62fda61",
   "metadata": {},
   "source": [
    "# KNN Classifier (tuning hyperparameters)"
   ]
  },
  {
   "cell_type": "code",
   "execution_count": 2,
   "id": "1f380dd9-b23b-4031-8770-980f99d78111",
   "metadata": {},
   "outputs": [],
   "source": [
    "from sklearn.neighbors import KNeighborsClassifier\n",
    "from sklearn.model_selection import GridSearchCV"
   ]
  },
  {
   "cell_type": "code",
   "execution_count": 3,
   "id": "9575e1ec-fd29-4a48-ae2a-2730ed665ab4",
   "metadata": {},
   "outputs": [],
   "source": [
    "def knn_tuned(X_train, X_test, y_train, y_test):\n",
    "    # Create a dictionary of hyperparameters to search\n",
    "    param_grid = {'n_neighbors': [3, 5, 7, 9, 11], 'p': [1, 2]}\n",
    "\n",
    "    # Create a K-Nearest Neighbors model\n",
    "    knn_model = KNeighborsClassifier()\n",
    "\n",
    "    # Perform grid search with cross-validation\n",
    "    grid_search = GridSearchCV(knn_model, param_grid, cv=5)\n",
    "    grid_search.fit(X_train, y_train)\n",
    "\n",
    "    # Find the best hyperparameters\n",
    "    best_n_neighbors = grid_search.best_params_['n_neighbors']\n",
    "    best_p = grid_search.best_params_['p']\n",
    "\n",
    "    # Create a K-Nearest Neighbors model with the best hyperparameters\n",
    "    knn_model_tuned = KNeighborsClassifier(n_neighbors=best_n_neighbors, p=best_p)\n",
    "\n",
    "    # Train the model on the training data with the best hyperparameters\n",
    "    knn_model_tuned.fit(X_train, y_train)\n",
    "    \n",
    "    y_pred_knn = knn_model_tuned.predict(X_test)\n",
    "    \n",
    "    accuracy_knn = accuracy_score(y_test, y_pred_knn)\n",
    "    classification_report_knn = classification_report(y_test, y_pred_knn)\n",
    "    confusion_matrix_knn = confusion_matrix(y_test, y_pred_knn)\n",
    "    \n",
    "    return accuracy_knn, classification_report_knn, confusion_matrix_knn"
   ]
  },
  {
   "cell_type": "code",
   "execution_count": null,
   "id": "7d2ec93f-33a9-4841-8198-82a133a92ec0",
   "metadata": {},
   "outputs": [],
   "source": []
  }
 ],
 "metadata": {
  "kernelspec": {
   "display_name": "final-project",
   "language": "python",
   "name": "final-project"
  },
  "language_info": {
   "codemirror_mode": {
    "name": "ipython",
    "version": 3
   },
   "file_extension": ".py",
   "mimetype": "text/x-python",
   "name": "python",
   "nbconvert_exporter": "python",
   "pygments_lexer": "ipython3",
   "version": "3.9.2"
  }
 },
 "nbformat": 4,
 "nbformat_minor": 5
}
