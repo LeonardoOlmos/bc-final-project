{
 "cells": [
  {
   "cell_type": "markdown",
   "id": "43502a98-7e78-42df-816f-3ce88c8515b9",
   "metadata": {},
   "source": [
    "# KNN Classifier"
   ]
  },
  {
   "cell_type": "code",
   "execution_count": 4,
   "id": "216d7306-c422-4521-b121-1a423d80486f",
   "metadata": {},
   "outputs": [],
   "source": [
    "from sklearn.neighbors import KNeighborsClassifier\n",
    "from sklearn.metrics import accuracy_score, classification_report, confusion_matrix"
   ]
  },
  {
   "cell_type": "code",
   "execution_count": 5,
   "id": "7045ab63-ae12-4c8f-9ea1-e9c57863e3f5",
   "metadata": {},
   "outputs": [],
   "source": [
    "def knn_clf(X_train, X_test, y_train, y_test):\n",
    "    clf = KNeighborsClassifier(n_neighbors=5)\n",
    "    clf.fit(X_train, y_train)\n",
    "    y_pred_knn = clf.predict(X_test)\n",
    "    \n",
    "    accuracy_knn = accuracy_score(y_test, y_pred_knn)\n",
    "    classification_report_knn = classification_report(y_test, y_pred_knn)\n",
    "    confusion_matrix_knn = confusion_matrix(y_test, y_pred_knn)\n",
    "    \n",
    "    return accuracy_knn, classification_report_knn, confusion_matrix_knn"
   ]
  },
  {
   "cell_type": "code",
   "execution_count": null,
   "id": "55ab3179-9246-4c07-8698-500921c9d085",
   "metadata": {},
   "outputs": [],
   "source": []
  }
 ],
 "metadata": {
  "kernelspec": {
   "display_name": "final-project",
   "language": "python",
   "name": "final-project"
  },
  "language_info": {
   "codemirror_mode": {
    "name": "ipython",
    "version": 3
   },
   "file_extension": ".py",
   "mimetype": "text/x-python",
   "name": "python",
   "nbconvert_exporter": "python",
   "pygments_lexer": "ipython3",
   "version": "3.9.2"
  }
 },
 "nbformat": 4,
 "nbformat_minor": 5
}
