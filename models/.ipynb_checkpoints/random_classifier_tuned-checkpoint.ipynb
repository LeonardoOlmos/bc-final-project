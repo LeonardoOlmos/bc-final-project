{
 "cells": [
  {
   "cell_type": "markdown",
   "id": "8abbadda-6db3-454f-a9d6-3a198b096548",
   "metadata": {},
   "source": [
    "# Random classifier (tuning hyperparameters)"
   ]
  },
  {
   "cell_type": "code",
   "execution_count": 7,
   "id": "8fa0ac7d-e757-412b-88d0-eaf67ee77de9",
   "metadata": {},
   "outputs": [],
   "source": [
    "from sklearn.ensemble import RandomForestClassifier\n",
    "from sklearn.model_selection import GridSearchCV"
   ]
  },
  {
   "cell_type": "code",
   "execution_count": 8,
   "id": "2a5f7049-df7f-4219-a5c9-162d20b29a66",
   "metadata": {},
   "outputs": [],
   "source": [
    "def rf_tuned(X_train, X_test, y_train, y_test):\n",
    "    param_grid = {\n",
    "        'n_estimators': [50, 100, 200],\n",
    "        'max_depth': [None, 10, 20, 30],\n",
    "        'min_samples_split': [2, 5, 10],\n",
    "        'min_samples_leaf': [1, 2, 4],\n",
    "        'max_features': ['sqrt']\n",
    "    }\n",
    "\n",
    "    # Create a Random Forest Classifier model\n",
    "    rf_model = RandomForestClassifier()\n",
    "\n",
    "    # Perform grid search with cross-validation\n",
    "    grid_search = GridSearchCV(rf_model, param_grid, cv=5)\n",
    "    grid_search.fit(X_train, y_train)\n",
    "\n",
    "    # Find the best hyperparameters\n",
    "    best_n_estimators = grid_search.best_params_['n_estimators']\n",
    "    best_max_depth = grid_search.best_params_['max_depth']\n",
    "    best_min_samples_split = grid_search.best_params_['min_samples_split']\n",
    "    best_min_samples_leaf = grid_search.best_params_['min_samples_leaf']\n",
    "    best_max_features = grid_search.best_params_['max_features']\n",
    "    \n",
    "    # Create a Random Forest Classifier model with the best hyperparameters\n",
    "    rf_model_tuned = RandomForestClassifier(\n",
    "        n_estimators=best_n_estimators,\n",
    "        max_depth=best_max_depth,\n",
    "        min_samples_split=best_min_samples_split,\n",
    "        min_samples_leaf=best_min_samples_leaf,\n",
    "        max_features=best_max_features\n",
    "    )\n",
    "    \n",
    "    # Train the model on the training data with the best hyperparameters\n",
    "    rf_model_tuned.fit(X_train, y_train)\n",
    "\n",
    "    y_pred_clf = rf_model_tuned.predict(X_test)\n",
    "    \n",
    "    accuracy_clf = accuracy_score(y_test, y_pred_clf)\n",
    "    report_clf = classification_report(y_test, y_pred_clf)\n",
    "    confusion_matrix_clf = confusion_matrix(y_test, y_pred_clf)\n",
    "    \n",
    "    return accuracy_clf, report_clf, confusion_matrix_clf"
   ]
  },
  {
   "cell_type": "code",
   "execution_count": null,
   "id": "405c9279-f780-4ea1-a9c3-7167588d7a83",
   "metadata": {},
   "outputs": [],
   "source": []
  }
 ],
 "metadata": {
  "kernelspec": {
   "display_name": "final-project",
   "language": "python",
   "name": "final-project"
  },
  "language_info": {
   "codemirror_mode": {
    "name": "ipython",
    "version": 3
   },
   "file_extension": ".py",
   "mimetype": "text/x-python",
   "name": "python",
   "nbconvert_exporter": "python",
   "pygments_lexer": "ipython3",
   "version": "3.9.2"
  }
 },
 "nbformat": 4,
 "nbformat_minor": 5
}
