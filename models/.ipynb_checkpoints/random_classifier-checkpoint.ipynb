{
 "cells": [
  {
   "cell_type": "markdown",
   "id": "b05fee4b-e25f-4979-bba3-70ace0f537bb",
   "metadata": {},
   "source": [
    "# Random Classsifier"
   ]
  },
  {
   "cell_type": "code",
   "execution_count": 5,
   "id": "48f10958-6f7e-4731-bd7f-2871185eccd8",
   "metadata": {},
   "outputs": [],
   "source": [
    "from sklearn.ensemble import RandomForestClassifier\n",
    "from sklearn.metrics import accuracy_score, classification_report, confusion_matrix"
   ]
  },
  {
   "cell_type": "code",
   "execution_count": 6,
   "id": "99c9ac14-5945-4a91-8693-9bfdba0ad32d",
   "metadata": {},
   "outputs": [],
   "source": [
    "def random_clf(X_train, X_test, y_train, y_test):\n",
    "    clf = RandomForestClassifier()\n",
    "    clf.fit(X_train, y_train)\n",
    "    y_pred_clf = clf.predict(X_test)\n",
    "    \n",
    "    accuracy_clf = accuracy_score(y_test, y_pred_clf)\n",
    "    report_clf = classification_report(y_test, y_pred_clf)\n",
    "    confusion_matrix_clf = confusion_matrix(y_test, y_pred_clf)\n",
    "    \n",
    "    return accuracy_clf, report_clf, confusion_matrix_clf"
   ]
  },
  {
   "cell_type": "code",
   "execution_count": null,
   "id": "5d314a9b-ad6d-466b-9aa8-66c7ef4a562b",
   "metadata": {},
   "outputs": [],
   "source": []
  }
 ],
 "metadata": {
  "kernelspec": {
   "display_name": "final-project",
   "language": "python",
   "name": "final-project"
  },
  "language_info": {
   "codemirror_mode": {
    "name": "ipython",
    "version": 3
   },
   "file_extension": ".py",
   "mimetype": "text/x-python",
   "name": "python",
   "nbconvert_exporter": "python",
   "pygments_lexer": "ipython3",
   "version": "3.9.2"
  }
 },
 "nbformat": 4,
 "nbformat_minor": 5
}
