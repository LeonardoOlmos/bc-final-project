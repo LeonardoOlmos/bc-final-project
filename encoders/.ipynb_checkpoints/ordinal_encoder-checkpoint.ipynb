{
 "cells": [
  {
   "cell_type": "markdown",
   "id": "77af07e8-ff4a-4a08-84ae-fa13355f2488",
   "metadata": {},
   "source": [
    "# Ordinal encoder"
   ]
  },
  {
   "cell_type": "code",
   "execution_count": 1,
   "id": "083a8369-1c29-4752-8aaf-e16c2ae75a54",
   "metadata": {},
   "outputs": [],
   "source": [
    "from sklearn.preprocessing import OrdinalEncoder"
   ]
  },
  {
   "cell_type": "code",
   "execution_count": 2,
   "id": "316bcb77-7a36-49c3-acb0-ed07115e4415",
   "metadata": {},
   "outputs": [],
   "source": [
    "def ordinal_encoded(column, df, categories):\n",
    "    encoder = OrdinalEncoder(categories= [categories])\n",
    "    return encoder.fit_transform(df.loc[:, [column]])"
   ]
  },
  {
   "cell_type": "code",
   "execution_count": null,
   "id": "d4b8b6b3-5414-4b5a-a150-110d49feaca0",
   "metadata": {},
   "outputs": [],
   "source": []
  }
 ],
 "metadata": {
  "kernelspec": {
   "display_name": "bootcamp",
   "language": "python",
   "name": "bootcamp"
  },
  "language_info": {
   "codemirror_mode": {
    "name": "ipython",
    "version": 3
   },
   "file_extension": ".py",
   "mimetype": "text/x-python",
   "name": "python",
   "nbconvert_exporter": "python",
   "pygments_lexer": "ipython3",
   "version": "3.9.2"
  }
 },
 "nbformat": 4,
 "nbformat_minor": 5
}
