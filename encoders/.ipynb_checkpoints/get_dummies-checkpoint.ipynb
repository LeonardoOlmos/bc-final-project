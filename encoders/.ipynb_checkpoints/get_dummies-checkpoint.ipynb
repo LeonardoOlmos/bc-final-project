{
 "cells": [
  {
   "cell_type": "markdown",
   "id": "9a9e62e0-d033-4c8d-9f4c-af25c21b523d",
   "metadata": {},
   "source": [
    "# Get Dummies"
   ]
  },
  {
   "cell_type": "code",
   "execution_count": 1,
   "id": "36ca435f-9b95-4469-913f-31f4a07f39a3",
   "metadata": {},
   "outputs": [],
   "source": [
    "import pandas as pd"
   ]
  },
  {
   "cell_type": "code",
   "execution_count": 2,
   "id": "35e86624-7c67-410b-92eb-2871e7ace966",
   "metadata": {},
   "outputs": [],
   "source": [
    "def dummies_encoded(columns, df):\n",
    "    return pd.get_dummies(df[columns], drop_first=True, prefix = columns, prefix_sep = '_')"
   ]
  },
  {
   "cell_type": "code",
   "execution_count": null,
   "id": "5762b03d-aa62-4b51-8d1e-d35d5f2379e7",
   "metadata": {},
   "outputs": [],
   "source": []
  }
 ],
 "metadata": {
  "kernelspec": {
   "display_name": "bootcamp",
   "language": "python",
   "name": "bootcamp"
  },
  "language_info": {
   "codemirror_mode": {
    "name": "ipython",
    "version": 3
   },
   "file_extension": ".py",
   "mimetype": "text/x-python",
   "name": "python",
   "nbconvert_exporter": "python",
   "pygments_lexer": "ipython3",
   "version": "3.9.2"
  }
 },
 "nbformat": 4,
 "nbformat_minor": 5
}
