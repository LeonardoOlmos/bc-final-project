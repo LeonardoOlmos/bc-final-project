{
 "cells": [
  {
   "cell_type": "markdown",
   "id": "31b9a51d-ca66-4838-974d-fedf2c2befd6",
   "metadata": {},
   "source": [
    "# One Hot Encoder"
   ]
  },
  {
   "cell_type": "code",
   "execution_count": 1,
   "id": "16e700d2-dc26-4d32-9ccf-ab7aaab2a73f",
   "metadata": {},
   "outputs": [],
   "source": [
    "from sklearn.preprocessing import OneHotEncoder"
   ]
  },
  {
   "cell_type": "code",
   "execution_count": 2,
   "id": "a29553f0-123a-41c9-b074-b3c6e8b9bfeb",
   "metadata": {},
   "outputs": [],
   "source": [
    "def one_hot_encoded(column, df):\n",
    "    encoder = OneHotEncoder()\n",
    "    encoder.fit_transform(df.loc[:, [column]]).toarray()\n",
    "    encoder.get_feature_names_out()\n",
    "    return encoder"
   ]
  },
  {
   "cell_type": "code",
   "execution_count": null,
   "id": "4112060a-c26c-4279-bb39-21e472b22641",
   "metadata": {},
   "outputs": [],
   "source": []
  }
 ],
 "metadata": {
  "kernelspec": {
   "display_name": "bootcamp",
   "language": "python",
   "name": "bootcamp"
  },
  "language_info": {
   "codemirror_mode": {
    "name": "ipython",
    "version": 3
   },
   "file_extension": ".py",
   "mimetype": "text/x-python",
   "name": "python",
   "nbconvert_exporter": "python",
   "pygments_lexer": "ipython3",
   "version": "3.9.2"
  }
 },
 "nbformat": 4,
 "nbformat_minor": 5
}
