{
 "cells": [
  {
   "cell_type": "markdown",
   "id": "f65b828f-c721-4815-98ae-c31836a50da6",
   "metadata": {},
   "source": [
    "# Notebook V1.0"
   ]
  },
  {
   "cell_type": "markdown",
   "id": "d2a36a54-e974-467a-abcd-5984ee733089",
   "metadata": {},
   "source": [
    "## Import required libraries"
   ]
  },
  {
   "cell_type": "code",
   "execution_count": 1,
   "id": "8cf52fb2-12d7-444c-b48a-86acb233ee38",
   "metadata": {},
   "outputs": [],
   "source": [
    "import pandas as pd\n",
    "import numpy as np\n",
    "import seaborn as sns\n",
    "import matplotlib.pyplot as plt\n",
    "\n",
    "from sklearn.model_selection import train_test_split\n",
    "\n",
    "from sklearn.impute import KNNImputer"
   ]
  },
  {
   "cell_type": "code",
   "execution_count": 2,
   "id": "82de0f63-d31e-45f3-ab98-56d8f6b42038",
   "metadata": {},
   "outputs": [],
   "source": [
    "test = pd.read_csv('../data/raw/test.csv')\n",
    "train = pd.read_csv('../data/raw/train.csv')"
   ]
  },
  {
   "cell_type": "code",
   "execution_count": 3,
   "id": "0e0ffbb2-b94e-4686-8bbf-7ecf985fbcb4",
   "metadata": {},
   "outputs": [
    {
     "data": {
      "text/html": [
       "<div>\n",
       "<style scoped>\n",
       "    .dataframe tbody tr th:only-of-type {\n",
       "        vertical-align: middle;\n",
       "    }\n",
       "\n",
       "    .dataframe tbody tr th {\n",
       "        vertical-align: top;\n",
       "    }\n",
       "\n",
       "    .dataframe thead th {\n",
       "        text-align: right;\n",
       "    }\n",
       "</style>\n",
       "<table border=\"1\" class=\"dataframe\">\n",
       "  <thead>\n",
       "    <tr style=\"text-align: right;\">\n",
       "      <th></th>\n",
       "      <th>ID</th>\n",
       "      <th>Gender</th>\n",
       "      <th>Ever_Married</th>\n",
       "      <th>Age</th>\n",
       "      <th>Graduated</th>\n",
       "      <th>Profession</th>\n",
       "      <th>Work_Experience</th>\n",
       "      <th>Spending_Score</th>\n",
       "      <th>Family_Size</th>\n",
       "      <th>Var_1</th>\n",
       "    </tr>\n",
       "  </thead>\n",
       "  <tbody>\n",
       "    <tr>\n",
       "      <th>0</th>\n",
       "      <td>458989</td>\n",
       "      <td>Female</td>\n",
       "      <td>Yes</td>\n",
       "      <td>36</td>\n",
       "      <td>Yes</td>\n",
       "      <td>Engineer</td>\n",
       "      <td>0.0</td>\n",
       "      <td>Low</td>\n",
       "      <td>1.0</td>\n",
       "      <td>Cat_6</td>\n",
       "    </tr>\n",
       "  </tbody>\n",
       "</table>\n",
       "</div>"
      ],
      "text/plain": [
       "       ID  Gender Ever_Married  Age Graduated Profession  Work_Experience   \n",
       "0  458989  Female          Yes   36       Yes   Engineer              0.0  \\\n",
       "\n",
       "  Spending_Score  Family_Size  Var_1  \n",
       "0            Low          1.0  Cat_6  "
      ]
     },
     "execution_count": 3,
     "metadata": {},
     "output_type": "execute_result"
    }
   ],
   "source": [
    "test.head(1)"
   ]
  },
  {
   "cell_type": "code",
   "execution_count": 4,
   "id": "d30325ab-e1e9-4510-9e6a-3528c53dcfa5",
   "metadata": {},
   "outputs": [
    {
     "data": {
      "text/html": [
       "<div>\n",
       "<style scoped>\n",
       "    .dataframe tbody tr th:only-of-type {\n",
       "        vertical-align: middle;\n",
       "    }\n",
       "\n",
       "    .dataframe tbody tr th {\n",
       "        vertical-align: top;\n",
       "    }\n",
       "\n",
       "    .dataframe thead th {\n",
       "        text-align: right;\n",
       "    }\n",
       "</style>\n",
       "<table border=\"1\" class=\"dataframe\">\n",
       "  <thead>\n",
       "    <tr style=\"text-align: right;\">\n",
       "      <th></th>\n",
       "      <th>ID</th>\n",
       "      <th>Gender</th>\n",
       "      <th>Ever_Married</th>\n",
       "      <th>Age</th>\n",
       "      <th>Graduated</th>\n",
       "      <th>Profession</th>\n",
       "      <th>Work_Experience</th>\n",
       "      <th>Spending_Score</th>\n",
       "      <th>Family_Size</th>\n",
       "      <th>Var_1</th>\n",
       "      <th>Segmentation</th>\n",
       "    </tr>\n",
       "  </thead>\n",
       "  <tbody>\n",
       "    <tr>\n",
       "      <th>0</th>\n",
       "      <td>462809</td>\n",
       "      <td>Male</td>\n",
       "      <td>No</td>\n",
       "      <td>22</td>\n",
       "      <td>No</td>\n",
       "      <td>Healthcare</td>\n",
       "      <td>1.0</td>\n",
       "      <td>Low</td>\n",
       "      <td>4.0</td>\n",
       "      <td>Cat_4</td>\n",
       "      <td>D</td>\n",
       "    </tr>\n",
       "  </tbody>\n",
       "</table>\n",
       "</div>"
      ],
      "text/plain": [
       "       ID Gender Ever_Married  Age Graduated  Profession  Work_Experience   \n",
       "0  462809   Male           No   22        No  Healthcare              1.0  \\\n",
       "\n",
       "  Spending_Score  Family_Size  Var_1 Segmentation  \n",
       "0            Low          4.0  Cat_4            D  "
      ]
     },
     "execution_count": 4,
     "metadata": {},
     "output_type": "execute_result"
    }
   ],
   "source": [
    "train.head(1)"
   ]
  },
  {
   "cell_type": "code",
   "execution_count": 5,
   "id": "1fae8649-c011-4058-a71a-4895894aed21",
   "metadata": {},
   "outputs": [],
   "source": [
    "train.columns = [column.lower() for column in train.columns]"
   ]
  },
  {
   "cell_type": "code",
   "execution_count": 6,
   "id": "1d771384-0167-47dd-a897-7bb042886021",
   "metadata": {},
   "outputs": [
    {
     "data": {
      "text/html": [
       "<div>\n",
       "<style scoped>\n",
       "    .dataframe tbody tr th:only-of-type {\n",
       "        vertical-align: middle;\n",
       "    }\n",
       "\n",
       "    .dataframe tbody tr th {\n",
       "        vertical-align: top;\n",
       "    }\n",
       "\n",
       "    .dataframe thead th {\n",
       "        text-align: right;\n",
       "    }\n",
       "</style>\n",
       "<table border=\"1\" class=\"dataframe\">\n",
       "  <thead>\n",
       "    <tr style=\"text-align: right;\">\n",
       "      <th></th>\n",
       "      <th>id</th>\n",
       "      <th>gender</th>\n",
       "      <th>ever_married</th>\n",
       "      <th>age</th>\n",
       "      <th>graduated</th>\n",
       "      <th>profession</th>\n",
       "      <th>work_experience</th>\n",
       "      <th>spending_score</th>\n",
       "      <th>family_size</th>\n",
       "      <th>var_1</th>\n",
       "      <th>segmentation</th>\n",
       "    </tr>\n",
       "  </thead>\n",
       "  <tbody>\n",
       "    <tr>\n",
       "      <th>0</th>\n",
       "      <td>462809</td>\n",
       "      <td>Male</td>\n",
       "      <td>No</td>\n",
       "      <td>22</td>\n",
       "      <td>No</td>\n",
       "      <td>Healthcare</td>\n",
       "      <td>1.0</td>\n",
       "      <td>Low</td>\n",
       "      <td>4.0</td>\n",
       "      <td>Cat_4</td>\n",
       "      <td>D</td>\n",
       "    </tr>\n",
       "    <tr>\n",
       "      <th>1</th>\n",
       "      <td>462643</td>\n",
       "      <td>Female</td>\n",
       "      <td>Yes</td>\n",
       "      <td>38</td>\n",
       "      <td>Yes</td>\n",
       "      <td>Engineer</td>\n",
       "      <td>NaN</td>\n",
       "      <td>Average</td>\n",
       "      <td>3.0</td>\n",
       "      <td>Cat_4</td>\n",
       "      <td>A</td>\n",
       "    </tr>\n",
       "    <tr>\n",
       "      <th>2</th>\n",
       "      <td>466315</td>\n",
       "      <td>Female</td>\n",
       "      <td>Yes</td>\n",
       "      <td>67</td>\n",
       "      <td>Yes</td>\n",
       "      <td>Engineer</td>\n",
       "      <td>1.0</td>\n",
       "      <td>Low</td>\n",
       "      <td>1.0</td>\n",
       "      <td>Cat_6</td>\n",
       "      <td>B</td>\n",
       "    </tr>\n",
       "    <tr>\n",
       "      <th>3</th>\n",
       "      <td>461735</td>\n",
       "      <td>Male</td>\n",
       "      <td>Yes</td>\n",
       "      <td>67</td>\n",
       "      <td>Yes</td>\n",
       "      <td>Lawyer</td>\n",
       "      <td>0.0</td>\n",
       "      <td>High</td>\n",
       "      <td>2.0</td>\n",
       "      <td>Cat_6</td>\n",
       "      <td>B</td>\n",
       "    </tr>\n",
       "    <tr>\n",
       "      <th>4</th>\n",
       "      <td>462669</td>\n",
       "      <td>Female</td>\n",
       "      <td>Yes</td>\n",
       "      <td>40</td>\n",
       "      <td>Yes</td>\n",
       "      <td>Entertainment</td>\n",
       "      <td>NaN</td>\n",
       "      <td>High</td>\n",
       "      <td>6.0</td>\n",
       "      <td>Cat_6</td>\n",
       "      <td>A</td>\n",
       "    </tr>\n",
       "  </tbody>\n",
       "</table>\n",
       "</div>"
      ],
      "text/plain": [
       "       id  gender ever_married  age graduated     profession  work_experience   \n",
       "0  462809    Male           No   22        No     Healthcare              1.0  \\\n",
       "1  462643  Female          Yes   38       Yes       Engineer              NaN   \n",
       "2  466315  Female          Yes   67       Yes       Engineer              1.0   \n",
       "3  461735    Male          Yes   67       Yes         Lawyer              0.0   \n",
       "4  462669  Female          Yes   40       Yes  Entertainment              NaN   \n",
       "\n",
       "  spending_score  family_size  var_1 segmentation  \n",
       "0            Low          4.0  Cat_4            D  \n",
       "1        Average          3.0  Cat_4            A  \n",
       "2            Low          1.0  Cat_6            B  \n",
       "3           High          2.0  Cat_6            B  \n",
       "4           High          6.0  Cat_6            A  "
      ]
     },
     "execution_count": 6,
     "metadata": {},
     "output_type": "execute_result"
    }
   ],
   "source": [
    "train.head()"
   ]
  },
  {
   "cell_type": "markdown",
   "id": "23eea514-de2d-4c38-ad0a-1b01de9617ef",
   "metadata": {},
   "source": [
    "## Checking null values"
   ]
  },
  {
   "cell_type": "code",
   "execution_count": 7,
   "id": "0ec2fadd-b5a3-4a5c-8798-7edbbff5122b",
   "metadata": {},
   "outputs": [
    {
     "data": {
      "text/plain": [
       "ID                   0\n",
       "Gender               0\n",
       "Ever_Married        50\n",
       "Age                  0\n",
       "Graduated           24\n",
       "Profession          38\n",
       "Work_Experience    269\n",
       "Spending_Score       0\n",
       "Family_Size        113\n",
       "Var_1               32\n",
       "dtype: int64"
      ]
     },
     "execution_count": 7,
     "metadata": {},
     "output_type": "execute_result"
    }
   ],
   "source": [
    "test.isna().sum()"
   ]
  },
  {
   "cell_type": "code",
   "execution_count": 8,
   "id": "bef38615-3805-48b6-ab17-84c34c0afc33",
   "metadata": {},
   "outputs": [
    {
     "name": "stdout",
     "output_type": "stream",
     "text": [
      "<class 'pandas.core.frame.DataFrame'>\n",
      "RangeIndex: 8068 entries, 0 to 8067\n",
      "Data columns (total 11 columns):\n",
      " #   Column           Non-Null Count  Dtype  \n",
      "---  ------           --------------  -----  \n",
      " 0   id               8068 non-null   int64  \n",
      " 1   gender           8068 non-null   object \n",
      " 2   ever_married     7928 non-null   object \n",
      " 3   age              8068 non-null   int64  \n",
      " 4   graduated        7990 non-null   object \n",
      " 5   profession       7944 non-null   object \n",
      " 6   work_experience  7239 non-null   float64\n",
      " 7   spending_score   8068 non-null   object \n",
      " 8   family_size      7733 non-null   float64\n",
      " 9   var_1            7992 non-null   object \n",
      " 10  segmentation     8068 non-null   object \n",
      "dtypes: float64(2), int64(2), object(7)\n",
      "memory usage: 693.5+ KB\n"
     ]
    }
   ],
   "source": [
    "train.info()"
   ]
  },
  {
   "cell_type": "code",
   "execution_count": 9,
   "id": "7f575949-1539-4ac0-8d0b-2a8ccc763768",
   "metadata": {},
   "outputs": [
    {
     "data": {
      "text/plain": [
       "id                   0\n",
       "gender               0\n",
       "ever_married       140\n",
       "age                  0\n",
       "graduated           78\n",
       "profession         124\n",
       "work_experience    829\n",
       "spending_score       0\n",
       "family_size        335\n",
       "var_1               76\n",
       "segmentation         0\n",
       "dtype: int64"
      ]
     },
     "execution_count": 9,
     "metadata": {},
     "output_type": "execute_result"
    }
   ],
   "source": [
    "train.isna().sum()"
   ]
  },
  {
   "cell_type": "code",
   "execution_count": 10,
   "id": "8b031384-da23-4a97-8896-1c1434d9a007",
   "metadata": {},
   "outputs": [],
   "source": [
    "na_cols = ['ever_married', 'graduated', 'profession', 'work_experience', 'family_size', 'var_1']"
   ]
  },
  {
   "cell_type": "code",
   "execution_count": 11,
   "id": "0d1f0c16-dcef-40f8-9ae3-933ee63bf0f6",
   "metadata": {},
   "outputs": [
    {
     "data": {
      "image/png": "[encoded data removed]",
      "text/plain": [
       "<Figure size 720x504 with 1 Axes>"
      ]
     },
     "metadata": {
      "needs_background": "light"
     },
     "output_type": "display_data"
    },
    {
     "name": "stdout",
     "output_type": "stream",
     "text": [
      "ever_married\n",
      "Yes    4643\n",
      "No     3285\n",
      "NaN     140\n",
      "Name: count, dtype: int64\n",
      "---------------------------------------------\n"
     ]
    },
    {
     "data": {
      "image/png": "[encoded data removed]",
      "text/plain": [
       "<Figure size 720x504 with 1 Axes>"
      ]
     },
     "metadata": {
      "needs_background": "light"
     },
     "output_type": "display_data"
    },
    {
     "name": "stdout",
     "output_type": "stream",
     "text": [
      "graduated\n",
      "Yes    4968\n",
      "No     3022\n",
      "NaN      78\n",
      "Name: count, dtype: int64\n",
      "---------------------------------------------\n"
     ]
    },
    {
     "data": {
      "image/png": "[encoded data removed]",
      "text/plain": [
       "<Figure size 720x504 with 1 Axes>"
      ]
     },
     "metadata": {
      "needs_background": "light"
     },
     "output_type": "display_data"
    },
    {
     "name": "stdout",
     "output_type": "stream",
     "text": [
      "profession\n",
      "Artist           2516\n",
      "Healthcare       1332\n",
      "Entertainment     949\n",
      "Engineer          699\n",
      "Doctor            688\n",
      "Lawyer            623\n",
      "Executive         599\n",
      "Marketing         292\n",
      "Homemaker         246\n",
      "NaN               124\n",
      "Name: count, dtype: int64\n",
      "---------------------------------------------\n"
     ]
    },
    {
     "data": {
      "image/png": "[encoded data removed]",
      "text/plain": [
       "<Figure size 720x504 with 1 Axes>"
      ]
     },
     "metadata": {
      "needs_background": "light"
     },
     "output_type": "display_data"
    },
    {
     "name": "stdout",
     "output_type": "stream",
     "text": [
      "work_experience\n",
      "1.0     2354\n",
      "0.0     2318\n",
      "NaN      829\n",
      "9.0      474\n",
      "8.0      463\n",
      "2.0      286\n",
      "3.0      255\n",
      "4.0      253\n",
      "6.0      204\n",
      "7.0      196\n",
      "5.0      194\n",
      "10.0      53\n",
      "11.0      50\n",
      "12.0      48\n",
      "13.0      46\n",
      "14.0      45\n",
      "Name: count, dtype: int64\n",
      "---------------------------------------------\n"
     ]
    },
    {
     "data": {
      "image/png": "[encoded data removed]",
      "text/plain": [
       "<Figure size 720x504 with 1 Axes>"
      ]
     },
     "metadata": {
      "needs_background": "light"
     },
     "output_type": "display_data"
    },
    {
     "name": "stdout",
     "output_type": "stream",
     "text": [
      "family_size\n",
      "2.0    2390\n",
      "3.0    1497\n",
      "1.0    1453\n",
      "4.0    1379\n",
      "5.0     612\n",
      "NaN     335\n",
      "6.0     212\n",
      "7.0      96\n",
      "8.0      50\n",
      "9.0      44\n",
      "Name: count, dtype: int64\n",
      "---------------------------------------------\n"
     ]
    },
    {
     "data": {
      "image/png": "[encoded data removed]",
      "text/plain": [
       "<Figure size 720x504 with 1 Axes>"
      ]
     },
     "metadata": {
      "needs_background": "light"
     },
     "output_type": "display_data"
    },
    {
     "name": "stdout",
     "output_type": "stream",
     "text": [
      "var_1\n",
      "Cat_6    5238\n",
      "Cat_4    1089\n",
      "Cat_3     822\n",
      "Cat_2     422\n",
      "Cat_7     203\n",
      "Cat_1     133\n",
      "Cat_5      85\n",
      "NaN        76\n",
      "Name: count, dtype: int64\n",
      "---------------------------------------------\n"
     ]
    }
   ],
   "source": [
    "for col in na_cols:\n",
    "    plt.figure(figsize=(10, 7))\n",
    "    sns.histplot(train[col])\n",
    "    plt.xticks(rotation = 45)\n",
    "    plt.show()\n",
    "    print(train[col].value_counts(dropna=False))\n",
    "    print('---------' * 5)"
   ]
  },
  {
   "cell_type": "markdown",
   "id": "103f257f-cf78-4674-b406-ff89a159cce4",
   "metadata": {},
   "source": [
    "## Split dataset into categoricals and numericals"
   ]
  },
  {
   "cell_type": "code",
   "execution_count": 12,
   "id": "ef072ffc-d3ad-4bca-8f80-7af9d12cf1dd",
   "metadata": {},
   "outputs": [
    {
     "name": "stdout",
     "output_type": "stream",
     "text": [
      "Numerical features\n",
      "Observations: 8068, Features: 4\n",
      "Features: Index(['id', 'age', 'work_experience', 'family_size'], dtype='object')\n"
     ]
    }
   ],
   "source": [
    "train_numericals = train.select_dtypes(np.number)\n",
    "print('Numerical features')\n",
    "print(f'Observations: {train_numericals.shape[0]}, Features: {train_numericals.shape[1]}')\n",
    "print(f'Features: {train_numericals.columns}')"
   ]
  },
  {
   "cell_type": "code",
   "execution_count": 13,
   "id": "10c7f4c3-30d5-4be1-84a8-fbc77f3a3bf6",
   "metadata": {},
   "outputs": [
    {
     "name": "stdout",
     "output_type": "stream",
     "text": [
      "Categorical features\n",
      "Observations: 8068, Features: 7\n",
      "Features: Index(['gender', 'ever_married', 'graduated', 'profession', 'spending_score',\n",
      "       'var_1', 'segmentation'],\n",
      "      dtype='object')\n"
     ]
    }
   ],
   "source": [
    "train_categoricals = train.select_dtypes(exclude=np.number)\n",
    "print('Categorical features')\n",
    "print(f'Observations: {train_categoricals.shape[0]}, Features: {train_categoricals.shape[1]}')\n",
    "print(f'Features: {train_categoricals.columns}')"
   ]
  },
  {
   "cell_type": "markdown",
   "id": "a1200614-90d2-4c09-8dd1-1fe9bb214bf3",
   "metadata": {},
   "source": [
    "## Dealing with missing values"
   ]
  },
  {
   "cell_type": "code",
   "execution_count": 14,
   "id": "a1e37322-86f8-4f8d-b55b-aa06a4d97b32",
   "metadata": {},
   "outputs": [],
   "source": [
    "# Filling missing values on categorical columns with mode value\n",
    "for col in ['ever_married', 'graduated', 'var_1']:\n",
    "    train_categoricals[col] = train_categoricals[col].fillna(train_categoricals[col].mode()[0])"
   ]
  },
  {
   "cell_type": "code",
   "execution_count": 15,
   "id": "a6a56a74-8d5e-4f41-8210-f75c3f6338a0",
   "metadata": {},
   "outputs": [],
   "source": [
    "train_categoricals['profession'] = train_categoricals['profession'].apply( lambda x: x if x is not np.nan else 'unknown')"
   ]
  },
  {
   "cell_type": "code",
   "execution_count": 16,
   "id": "612ddd56-5e2e-45d3-9e75-c28b6553da2c",
   "metadata": {},
   "outputs": [],
   "source": [
    "def compare_imputation(col,df,new_column):\n",
    "    if max(df[col].value_counts())>max(new_column.value_counts()):\n",
    "        limit = max(df[col].value_counts())*1.25\n",
    "    else:\n",
    "        limit = max(new_column.value_counts())*1.25\n",
    "    \n",
    "    fig, ax = plt.subplots(1,2, figsize=(15,6))\n",
    "    sns.histplot(x=col, data=df, ax=ax[0])\n",
    "    ax[0].set_title(\"Before the imputation\")\n",
    "    ax[0].set_ylim((0,limit))\n",
    "    sns.histplot(x=new_column, ax=ax[1])\n",
    "    ax[1].set_title(\"After the imputation\")\n",
    "    ax[1].set_ylim((0,limit))\n",
    "    plt.show()"
   ]
  },
  {
   "cell_type": "code",
   "execution_count": 17,
   "id": "94b4fc4c-3d7a-491a-9ca8-ff83a84bbd0d",
   "metadata": {},
   "outputs": [],
   "source": [
    "family_size_new = train_numericals['family_size'].fillna(train_numericals['family_size'].median())"
   ]
  },
  {
   "cell_type": "code",
   "execution_count": 18,
   "id": "8b7d98d1-4e62-46c6-bb54-4b55a69da591",
   "metadata": {},
   "outputs": [],
   "source": [
    "work_experience_new = train_numericals['work_experience'].fillna(train_numericals['work_experience'].median())"
   ]
  },
  {
   "cell_type": "code",
   "execution_count": 19,
   "id": "055e1c5a-1665-47bd-a87d-edaab835ec96",
   "metadata": {},
   "outputs": [
    {
     "data": {
      "image/png": "[encoded data removed]",
      "text/plain": [
       "<Figure size 1080x432 with 2 Axes>"
      ]
     },
     "metadata": {
      "needs_background": "light"
     },
     "output_type": "display_data"
    }
   ],
   "source": [
    "compare_imputation('family_size', train_numericals, family_size_new)"
   ]
  },
  {
   "cell_type": "code",
   "execution_count": 20,
   "id": "9b735a7e-c335-43e5-8e1b-52d955695d19",
   "metadata": {},
   "outputs": [
    {
     "data": {
      "image/png": "[encoded data removed]",
      "text/plain": [
       "<Figure size 1080x432 with 2 Axes>"
      ]
     },
     "metadata": {
      "needs_background": "light"
     },
     "output_type": "display_data"
    }
   ],
   "source": [
    "compare_imputation('work_experience', train_numericals, work_experience_new)"
   ]
  },
  {
   "cell_type": "code",
   "execution_count": 21,
   "id": "075e096a-7ae6-4848-bef2-e3fbe75be011",
   "metadata": {},
   "outputs": [],
   "source": [
    "train_numericals['work_experience'] = train_numericals['work_experience'].fillna(train_numericals['work_experience'].median())"
   ]
  },
  {
   "cell_type": "code",
   "execution_count": 22,
   "id": "953cfa09-e2c4-4861-86c2-86895f93e36a",
   "metadata": {},
   "outputs": [],
   "source": [
    "train_numericals['family_size'] = train_numericals['family_size'].fillna(train_numericals['family_size'].median())"
   ]
  },
  {
   "cell_type": "markdown",
   "id": "863d762b-b454-481c-8e3b-933d743be477",
   "metadata": {},
   "source": [
    "## Encoding features (Categoricals)"
   ]
  },
  {
   "cell_type": "code",
   "execution_count": 23,
   "id": "ae2128df-059e-4224-bd16-2d99d8cf3cf2",
   "metadata": {},
   "outputs": [],
   "source": [
    "%run ../encoders/ordinal_encoder.ipynb\n",
    "%run ../encoders/onehot_encoder.ipynb\n",
    "%run ../encoders/label_encoder.ipynb\n",
    "%run ../encoders/get_dummies.ipynb"
   ]
  },
  {
   "cell_type": "code",
   "execution_count": 24,
   "id": "5b43e585-5000-41d9-91d1-7fae65c61c1f",
   "metadata": {},
   "outputs": [],
   "source": [
    "var_cats = ['Cat_1', 'Cat_2', 'Cat_3', 'Cat_4', 'Cat_5', 'Cat_6', 'Cat_7']"
   ]
  },
  {
   "cell_type": "code",
   "execution_count": 25,
   "id": "013a9c56-8826-4931-b429-1631bf9b008d",
   "metadata": {},
   "outputs": [],
   "source": [
    "score_cats = ['Low', 'Average', 'High']"
   ]
  },
  {
   "cell_type": "code",
   "execution_count": 26,
   "id": "8e5b1c55-17b8-4aed-a782-8fe820df79a9",
   "metadata": {},
   "outputs": [],
   "source": [
    "pending_score_encoded = ordinal_encoded('spending_score', train_categoricals, score_cats)"
   ]
  },
  {
   "cell_type": "code",
   "execution_count": 27,
   "id": "78c0439f-6e16-4d8c-8a2a-51c3d66b66e4",
   "metadata": {},
   "outputs": [],
   "source": [
    "var_encoded = ordinal_encoded('var_1', train_categoricals, var_cats)"
   ]
  },
  {
   "cell_type": "code",
   "execution_count": 28,
   "id": "7746860d-96c2-4c12-8c71-7cd0855da68e",
   "metadata": {},
   "outputs": [],
   "source": [
    "segmentation_encoded = label_encoded('segmentation', train_categoricals)"
   ]
  },
  {
   "cell_type": "code",
   "execution_count": 29,
   "id": "2543ee4a-634c-4709-9fb7-6ef5a9509c1a",
   "metadata": {},
   "outputs": [],
   "source": [
    "train_categoricals['spending_score_enc'] = pending_score_encoded"
   ]
  },
  {
   "cell_type": "code",
   "execution_count": 30,
   "id": "3189de32-cee6-46b9-89fa-2bc7d52ff6d4",
   "metadata": {},
   "outputs": [],
   "source": [
    "train_categoricals['var_enc'] = var_encoded"
   ]
  },
  {
   "cell_type": "code",
   "execution_count": 31,
   "id": "9eedb48a-049d-4914-8f83-c0b9d4bb05de",
   "metadata": {},
   "outputs": [],
   "source": [
    "gender_encoded = dummies_encoded('gender', train_categoricals)"
   ]
  },
  {
   "cell_type": "code",
   "execution_count": 32,
   "id": "078b723f-ab83-4d34-82f4-e3e07b78f197",
   "metadata": {},
   "outputs": [],
   "source": [
    "ever_married_encoded = dummies_encoded('ever_married', train_categoricals)"
   ]
  },
  {
   "cell_type": "code",
   "execution_count": 33,
   "id": "d3c7512f-d115-4642-b80c-107770f97c47",
   "metadata": {},
   "outputs": [],
   "source": [
    "graduated_encoded = dummies_encoded('graduated', train_categoricals)"
   ]
  },
  {
   "cell_type": "code",
   "execution_count": 34,
   "id": "b9ece7dd-6a22-44e0-bb5c-873e857ff0da",
   "metadata": {},
   "outputs": [],
   "source": [
    "profession_encoded = dummies_encoded('profession', train_categoricals)"
   ]
  },
  {
   "cell_type": "code",
   "execution_count": 35,
   "id": "bccdc00e-66d2-410d-a8f7-1847124ce31b",
   "metadata": {},
   "outputs": [],
   "source": [
    "train_categoricals = pd.concat([train_categoricals, gender_encoded, ever_married_encoded, graduated_encoded, profession_encoded], axis = 1)"
   ]
  },
  {
   "cell_type": "code",
   "execution_count": 36,
   "id": "d5d8a2a9-4e50-406c-916a-e671ec17dbd6",
   "metadata": {},
   "outputs": [],
   "source": [
    "train_categoricals = train_categoricals.drop(columns=['gender', 'ever_married', 'graduated', 'profession', 'spending_score', 'var_1'])"
   ]
  },
  {
   "cell_type": "code",
   "execution_count": 37,
   "id": "9f9e9d04-f3a2-4fdc-992d-c5714b7c156c",
   "metadata": {},
   "outputs": [
    {
     "data": {
      "text/html": [
       "<div>\n",
       "<style scoped>\n",
       "    .dataframe tbody tr th:only-of-type {\n",
       "        vertical-align: middle;\n",
       "    }\n",
       "\n",
       "    .dataframe tbody tr th {\n",
       "        vertical-align: top;\n",
       "    }\n",
       "\n",
       "    .dataframe thead th {\n",
       "        text-align: right;\n",
       "    }\n",
       "</style>\n",
       "<table border=\"1\" class=\"dataframe\">\n",
       "  <thead>\n",
       "    <tr style=\"text-align: right;\">\n",
       "      <th></th>\n",
       "      <th>segmentation</th>\n",
       "      <th>spending_score_enc</th>\n",
       "      <th>var_enc</th>\n",
       "      <th>gender_Male</th>\n",
       "      <th>ever_married_Yes</th>\n",
       "      <th>graduated_Yes</th>\n",
       "      <th>profession_Doctor</th>\n",
       "      <th>profession_Engineer</th>\n",
       "      <th>profession_Entertainment</th>\n",
       "      <th>profession_Executive</th>\n",
       "      <th>profession_Healthcare</th>\n",
       "      <th>profession_Homemaker</th>\n",
       "      <th>profession_Lawyer</th>\n",
       "      <th>profession_Marketing</th>\n",
       "      <th>profession_unknown</th>\n",
       "    </tr>\n",
       "  </thead>\n",
       "  <tbody>\n",
       "    <tr>\n",
       "      <th>0</th>\n",
       "      <td>3</td>\n",
       "      <td>0.0</td>\n",
       "      <td>3.0</td>\n",
       "      <td>True</td>\n",
       "      <td>False</td>\n",
       "      <td>False</td>\n",
       "      <td>False</td>\n",
       "      <td>False</td>\n",
       "      <td>False</td>\n",
       "      <td>False</td>\n",
       "      <td>True</td>\n",
       "      <td>False</td>\n",
       "      <td>False</td>\n",
       "      <td>False</td>\n",
       "      <td>False</td>\n",
       "    </tr>\n",
       "    <tr>\n",
       "      <th>1</th>\n",
       "      <td>0</td>\n",
       "      <td>1.0</td>\n",
       "      <td>3.0</td>\n",
       "      <td>False</td>\n",
       "      <td>True</td>\n",
       "      <td>True</td>\n",
       "      <td>False</td>\n",
       "      <td>True</td>\n",
       "      <td>False</td>\n",
       "      <td>False</td>\n",
       "      <td>False</td>\n",
       "      <td>False</td>\n",
       "      <td>False</td>\n",
       "      <td>False</td>\n",
       "      <td>False</td>\n",
       "    </tr>\n",
       "    <tr>\n",
       "      <th>2</th>\n",
       "      <td>1</td>\n",
       "      <td>0.0</td>\n",
       "      <td>5.0</td>\n",
       "      <td>False</td>\n",
       "      <td>True</td>\n",
       "      <td>True</td>\n",
       "      <td>False</td>\n",
       "      <td>True</td>\n",
       "      <td>False</td>\n",
       "      <td>False</td>\n",
       "      <td>False</td>\n",
       "      <td>False</td>\n",
       "      <td>False</td>\n",
       "      <td>False</td>\n",
       "      <td>False</td>\n",
       "    </tr>\n",
       "    <tr>\n",
       "      <th>3</th>\n",
       "      <td>1</td>\n",
       "      <td>2.0</td>\n",
       "      <td>5.0</td>\n",
       "      <td>True</td>\n",
       "      <td>True</td>\n",
       "      <td>True</td>\n",
       "      <td>False</td>\n",
       "      <td>False</td>\n",
       "      <td>False</td>\n",
       "      <td>False</td>\n",
       "      <td>False</td>\n",
       "      <td>False</td>\n",
       "      <td>True</td>\n",
       "      <td>False</td>\n",
       "      <td>False</td>\n",
       "    </tr>\n",
       "    <tr>\n",
       "      <th>4</th>\n",
       "      <td>0</td>\n",
       "      <td>2.0</td>\n",
       "      <td>5.0</td>\n",
       "      <td>False</td>\n",
       "      <td>True</td>\n",
       "      <td>True</td>\n",
       "      <td>False</td>\n",
       "      <td>False</td>\n",
       "      <td>True</td>\n",
       "      <td>False</td>\n",
       "      <td>False</td>\n",
       "      <td>False</td>\n",
       "      <td>False</td>\n",
       "      <td>False</td>\n",
       "      <td>False</td>\n",
       "    </tr>\n",
       "    <tr>\n",
       "      <th>...</th>\n",
       "      <td>...</td>\n",
       "      <td>...</td>\n",
       "      <td>...</td>\n",
       "      <td>...</td>\n",
       "      <td>...</td>\n",
       "      <td>...</td>\n",
       "      <td>...</td>\n",
       "      <td>...</td>\n",
       "      <td>...</td>\n",
       "      <td>...</td>\n",
       "      <td>...</td>\n",
       "      <td>...</td>\n",
       "      <td>...</td>\n",
       "      <td>...</td>\n",
       "      <td>...</td>\n",
       "    </tr>\n",
       "    <tr>\n",
       "      <th>8063</th>\n",
       "      <td>3</td>\n",
       "      <td>0.0</td>\n",
       "      <td>0.0</td>\n",
       "      <td>True</td>\n",
       "      <td>False</td>\n",
       "      <td>False</td>\n",
       "      <td>False</td>\n",
       "      <td>False</td>\n",
       "      <td>False</td>\n",
       "      <td>False</td>\n",
       "      <td>False</td>\n",
       "      <td>False</td>\n",
       "      <td>False</td>\n",
       "      <td>False</td>\n",
       "      <td>True</td>\n",
       "    </tr>\n",
       "    <tr>\n",
       "      <th>8064</th>\n",
       "      <td>3</td>\n",
       "      <td>0.0</td>\n",
       "      <td>3.0</td>\n",
       "      <td>True</td>\n",
       "      <td>False</td>\n",
       "      <td>False</td>\n",
       "      <td>False</td>\n",
       "      <td>False</td>\n",
       "      <td>False</td>\n",
       "      <td>True</td>\n",
       "      <td>False</td>\n",
       "      <td>False</td>\n",
       "      <td>False</td>\n",
       "      <td>False</td>\n",
       "      <td>False</td>\n",
       "    </tr>\n",
       "    <tr>\n",
       "      <th>8065</th>\n",
       "      <td>3</td>\n",
       "      <td>0.0</td>\n",
       "      <td>5.0</td>\n",
       "      <td>False</td>\n",
       "      <td>False</td>\n",
       "      <td>True</td>\n",
       "      <td>False</td>\n",
       "      <td>False</td>\n",
       "      <td>False</td>\n",
       "      <td>False</td>\n",
       "      <td>True</td>\n",
       "      <td>False</td>\n",
       "      <td>False</td>\n",
       "      <td>False</td>\n",
       "      <td>False</td>\n",
       "    </tr>\n",
       "    <tr>\n",
       "      <th>8066</th>\n",
       "      <td>1</td>\n",
       "      <td>0.0</td>\n",
       "      <td>5.0</td>\n",
       "      <td>False</td>\n",
       "      <td>False</td>\n",
       "      <td>True</td>\n",
       "      <td>False</td>\n",
       "      <td>False</td>\n",
       "      <td>False</td>\n",
       "      <td>False</td>\n",
       "      <td>True</td>\n",
       "      <td>False</td>\n",
       "      <td>False</td>\n",
       "      <td>False</td>\n",
       "      <td>False</td>\n",
       "    </tr>\n",
       "    <tr>\n",
       "      <th>8067</th>\n",
       "      <td>1</td>\n",
       "      <td>1.0</td>\n",
       "      <td>3.0</td>\n",
       "      <td>True</td>\n",
       "      <td>True</td>\n",
       "      <td>True</td>\n",
       "      <td>False</td>\n",
       "      <td>False</td>\n",
       "      <td>False</td>\n",
       "      <td>True</td>\n",
       "      <td>False</td>\n",
       "      <td>False</td>\n",
       "      <td>False</td>\n",
       "      <td>False</td>\n",
       "      <td>False</td>\n",
       "    </tr>\n",
       "  </tbody>\n",
       "</table>\n",
       "<p>8068 rows × 15 columns</p>\n",
       "</div>"
      ],
      "text/plain": [
       "      segmentation  spending_score_enc  var_enc  gender_Male   \n",
       "0                3                 0.0      3.0         True  \\\n",
       "1                0                 1.0      3.0        False   \n",
       "2                1                 0.0      5.0        False   \n",
       "3                1                 2.0      5.0         True   \n",
       "4                0                 2.0      5.0        False   \n",
       "...            ...                 ...      ...          ...   \n",
       "8063             3                 0.0      0.0         True   \n",
       "8064             3                 0.0      3.0         True   \n",
       "8065             3                 0.0      5.0        False   \n",
       "8066             1                 0.0      5.0        False   \n",
       "8067             1                 1.0      3.0         True   \n",
       "\n",
       "      ever_married_Yes  graduated_Yes  profession_Doctor  profession_Engineer   \n",
       "0                False          False              False                False  \\\n",
       "1                 True           True              False                 True   \n",
       "2                 True           True              False                 True   \n",
       "3                 True           True              False                False   \n",
       "4                 True           True              False                False   \n",
       "...                ...            ...                ...                  ...   \n",
       "8063             False          False              False                False   \n",
       "8064             False          False              False                False   \n",
       "8065             False           True              False                False   \n",
       "8066             False           True              False                False   \n",
       "8067              True           True              False                False   \n",
       "\n",
       "      profession_Entertainment  profession_Executive  profession_Healthcare   \n",
       "0                        False                 False                   True  \\\n",
       "1                        False                 False                  False   \n",
       "2                        False                 False                  False   \n",
       "3                        False                 False                  False   \n",
       "4                         True                 False                  False   \n",
       "...                        ...                   ...                    ...   \n",
       "8063                     False                 False                  False   \n",
       "8064                     False                  True                  False   \n",
       "8065                     False                 False                   True   \n",
       "8066                     False                 False                   True   \n",
       "8067                     False                  True                  False   \n",
       "\n",
       "      profession_Homemaker  profession_Lawyer  profession_Marketing   \n",
       "0                    False              False                 False  \\\n",
       "1                    False              False                 False   \n",
       "2                    False              False                 False   \n",
       "3                    False               True                 False   \n",
       "4                    False              False                 False   \n",
       "...                    ...                ...                   ...   \n",
       "8063                 False              False                 False   \n",
       "8064                 False              False                 False   \n",
       "8065                 False              False                 False   \n",
       "8066                 False              False                 False   \n",
       "8067                 False              False                 False   \n",
       "\n",
       "      profession_unknown  \n",
       "0                  False  \n",
       "1                  False  \n",
       "2                  False  \n",
       "3                  False  \n",
       "4                  False  \n",
       "...                  ...  \n",
       "8063                True  \n",
       "8064               False  \n",
       "8065               False  \n",
       "8066               False  \n",
       "8067               False  \n",
       "\n",
       "[8068 rows x 15 columns]"
      ]
     },
     "execution_count": 37,
     "metadata": {},
     "output_type": "execute_result"
    }
   ],
   "source": [
    "train_categoricals"
   ]
  },
  {
   "cell_type": "code",
   "execution_count": 38,
   "id": "6d24343c-5b41-4863-b414-61e385c407ef",
   "metadata": {},
   "outputs": [],
   "source": [
    "data = pd.concat([train_numericals, train_categoricals], axis = 1)"
   ]
  },
  {
   "cell_type": "code",
   "execution_count": 39,
   "id": "aa0bda4e-0170-4902-a719-c99f2f9520c9",
   "metadata": {},
   "outputs": [
    {
     "data": {
      "text/html": [
       "<div>\n",
       "<style scoped>\n",
       "    .dataframe tbody tr th:only-of-type {\n",
       "        vertical-align: middle;\n",
       "    }\n",
       "\n",
       "    .dataframe tbody tr th {\n",
       "        vertical-align: top;\n",
       "    }\n",
       "\n",
       "    .dataframe thead th {\n",
       "        text-align: right;\n",
       "    }\n",
       "</style>\n",
       "<table border=\"1\" class=\"dataframe\">\n",
       "  <thead>\n",
       "    <tr style=\"text-align: right;\">\n",
       "      <th></th>\n",
       "      <th>id</th>\n",
       "      <th>age</th>\n",
       "      <th>work_experience</th>\n",
       "      <th>family_size</th>\n",
       "      <th>segmentation</th>\n",
       "      <th>spending_score_enc</th>\n",
       "      <th>var_enc</th>\n",
       "      <th>gender_Male</th>\n",
       "      <th>ever_married_Yes</th>\n",
       "      <th>graduated_Yes</th>\n",
       "      <th>profession_Doctor</th>\n",
       "      <th>profession_Engineer</th>\n",
       "      <th>profession_Entertainment</th>\n",
       "      <th>profession_Executive</th>\n",
       "      <th>profession_Healthcare</th>\n",
       "      <th>profession_Homemaker</th>\n",
       "      <th>profession_Lawyer</th>\n",
       "      <th>profession_Marketing</th>\n",
       "      <th>profession_unknown</th>\n",
       "    </tr>\n",
       "  </thead>\n",
       "  <tbody>\n",
       "    <tr>\n",
       "      <th>0</th>\n",
       "      <td>462809</td>\n",
       "      <td>22</td>\n",
       "      <td>1.0</td>\n",
       "      <td>4.0</td>\n",
       "      <td>3</td>\n",
       "      <td>0.0</td>\n",
       "      <td>3.0</td>\n",
       "      <td>True</td>\n",
       "      <td>False</td>\n",
       "      <td>False</td>\n",
       "      <td>False</td>\n",
       "      <td>False</td>\n",
       "      <td>False</td>\n",
       "      <td>False</td>\n",
       "      <td>True</td>\n",
       "      <td>False</td>\n",
       "      <td>False</td>\n",
       "      <td>False</td>\n",
       "      <td>False</td>\n",
       "    </tr>\n",
       "    <tr>\n",
       "      <th>1</th>\n",
       "      <td>462643</td>\n",
       "      <td>38</td>\n",
       "      <td>1.0</td>\n",
       "      <td>3.0</td>\n",
       "      <td>0</td>\n",
       "      <td>1.0</td>\n",
       "      <td>3.0</td>\n",
       "      <td>False</td>\n",
       "      <td>True</td>\n",
       "      <td>True</td>\n",
       "      <td>False</td>\n",
       "      <td>True</td>\n",
       "      <td>False</td>\n",
       "      <td>False</td>\n",
       "      <td>False</td>\n",
       "      <td>False</td>\n",
       "      <td>False</td>\n",
       "      <td>False</td>\n",
       "      <td>False</td>\n",
       "    </tr>\n",
       "    <tr>\n",
       "      <th>2</th>\n",
       "      <td>466315</td>\n",
       "      <td>67</td>\n",
       "      <td>1.0</td>\n",
       "      <td>1.0</td>\n",
       "      <td>1</td>\n",
       "      <td>0.0</td>\n",
       "      <td>5.0</td>\n",
       "      <td>False</td>\n",
       "      <td>True</td>\n",
       "      <td>True</td>\n",
       "      <td>False</td>\n",
       "      <td>True</td>\n",
       "      <td>False</td>\n",
       "      <td>False</td>\n",
       "      <td>False</td>\n",
       "      <td>False</td>\n",
       "      <td>False</td>\n",
       "      <td>False</td>\n",
       "      <td>False</td>\n",
       "    </tr>\n",
       "    <tr>\n",
       "      <th>3</th>\n",
       "      <td>461735</td>\n",
       "      <td>67</td>\n",
       "      <td>0.0</td>\n",
       "      <td>2.0</td>\n",
       "      <td>1</td>\n",
       "      <td>2.0</td>\n",
       "      <td>5.0</td>\n",
       "      <td>True</td>\n",
       "      <td>True</td>\n",
       "      <td>True</td>\n",
       "      <td>False</td>\n",
       "      <td>False</td>\n",
       "      <td>False</td>\n",
       "      <td>False</td>\n",
       "      <td>False</td>\n",
       "      <td>False</td>\n",
       "      <td>True</td>\n",
       "      <td>False</td>\n",
       "      <td>False</td>\n",
       "    </tr>\n",
       "    <tr>\n",
       "      <th>4</th>\n",
       "      <td>462669</td>\n",
       "      <td>40</td>\n",
       "      <td>1.0</td>\n",
       "      <td>6.0</td>\n",
       "      <td>0</td>\n",
       "      <td>2.0</td>\n",
       "      <td>5.0</td>\n",
       "      <td>False</td>\n",
       "      <td>True</td>\n",
       "      <td>True</td>\n",
       "      <td>False</td>\n",
       "      <td>False</td>\n",
       "      <td>True</td>\n",
       "      <td>False</td>\n",
       "      <td>False</td>\n",
       "      <td>False</td>\n",
       "      <td>False</td>\n",
       "      <td>False</td>\n",
       "      <td>False</td>\n",
       "    </tr>\n",
       "    <tr>\n",
       "      <th>...</th>\n",
       "      <td>...</td>\n",
       "      <td>...</td>\n",
       "      <td>...</td>\n",
       "      <td>...</td>\n",
       "      <td>...</td>\n",
       "      <td>...</td>\n",
       "      <td>...</td>\n",
       "      <td>...</td>\n",
       "      <td>...</td>\n",
       "      <td>...</td>\n",
       "      <td>...</td>\n",
       "      <td>...</td>\n",
       "      <td>...</td>\n",
       "      <td>...</td>\n",
       "      <td>...</td>\n",
       "      <td>...</td>\n",
       "      <td>...</td>\n",
       "      <td>...</td>\n",
       "      <td>...</td>\n",
       "    </tr>\n",
       "    <tr>\n",
       "      <th>8063</th>\n",
       "      <td>464018</td>\n",
       "      <td>22</td>\n",
       "      <td>0.0</td>\n",
       "      <td>7.0</td>\n",
       "      <td>3</td>\n",
       "      <td>0.0</td>\n",
       "      <td>0.0</td>\n",
       "      <td>True</td>\n",
       "      <td>False</td>\n",
       "      <td>False</td>\n",
       "      <td>False</td>\n",
       "      <td>False</td>\n",
       "      <td>False</td>\n",
       "      <td>False</td>\n",
       "      <td>False</td>\n",
       "      <td>False</td>\n",
       "      <td>False</td>\n",
       "      <td>False</td>\n",
       "      <td>True</td>\n",
       "    </tr>\n",
       "    <tr>\n",
       "      <th>8064</th>\n",
       "      <td>464685</td>\n",
       "      <td>35</td>\n",
       "      <td>3.0</td>\n",
       "      <td>4.0</td>\n",
       "      <td>3</td>\n",
       "      <td>0.0</td>\n",
       "      <td>3.0</td>\n",
       "      <td>True</td>\n",
       "      <td>False</td>\n",
       "      <td>False</td>\n",
       "      <td>False</td>\n",
       "      <td>False</td>\n",
       "      <td>False</td>\n",
       "      <td>True</td>\n",
       "      <td>False</td>\n",
       "      <td>False</td>\n",
       "      <td>False</td>\n",
       "      <td>False</td>\n",
       "      <td>False</td>\n",
       "    </tr>\n",
       "    <tr>\n",
       "      <th>8065</th>\n",
       "      <td>465406</td>\n",
       "      <td>33</td>\n",
       "      <td>1.0</td>\n",
       "      <td>1.0</td>\n",
       "      <td>3</td>\n",
       "      <td>0.0</td>\n",
       "      <td>5.0</td>\n",
       "      <td>False</td>\n",
       "      <td>False</td>\n",
       "      <td>True</td>\n",
       "      <td>False</td>\n",
       "      <td>False</td>\n",
       "      <td>False</td>\n",
       "      <td>False</td>\n",
       "      <td>True</td>\n",
       "      <td>False</td>\n",
       "      <td>False</td>\n",
       "      <td>False</td>\n",
       "      <td>False</td>\n",
       "    </tr>\n",
       "    <tr>\n",
       "      <th>8066</th>\n",
       "      <td>467299</td>\n",
       "      <td>27</td>\n",
       "      <td>1.0</td>\n",
       "      <td>4.0</td>\n",
       "      <td>1</td>\n",
       "      <td>0.0</td>\n",
       "      <td>5.0</td>\n",
       "      <td>False</td>\n",
       "      <td>False</td>\n",
       "      <td>True</td>\n",
       "      <td>False</td>\n",
       "      <td>False</td>\n",
       "      <td>False</td>\n",
       "      <td>False</td>\n",
       "      <td>True</td>\n",
       "      <td>False</td>\n",
       "      <td>False</td>\n",
       "      <td>False</td>\n",
       "      <td>False</td>\n",
       "    </tr>\n",
       "    <tr>\n",
       "      <th>8067</th>\n",
       "      <td>461879</td>\n",
       "      <td>37</td>\n",
       "      <td>0.0</td>\n",
       "      <td>3.0</td>\n",
       "      <td>1</td>\n",
       "      <td>1.0</td>\n",
       "      <td>3.0</td>\n",
       "      <td>True</td>\n",
       "      <td>True</td>\n",
       "      <td>True</td>\n",
       "      <td>False</td>\n",
       "      <td>False</td>\n",
       "      <td>False</td>\n",
       "      <td>True</td>\n",
       "      <td>False</td>\n",
       "      <td>False</td>\n",
       "      <td>False</td>\n",
       "      <td>False</td>\n",
       "      <td>False</td>\n",
       "    </tr>\n",
       "  </tbody>\n",
       "</table>\n",
       "<p>8068 rows × 19 columns</p>\n",
       "</div>"
      ],
      "text/plain": [
       "          id  age  work_experience  family_size  segmentation   \n",
       "0     462809   22              1.0          4.0             3  \\\n",
       "1     462643   38              1.0          3.0             0   \n",
       "2     466315   67              1.0          1.0             1   \n",
       "3     461735   67              0.0          2.0             1   \n",
       "4     462669   40              1.0          6.0             0   \n",
       "...      ...  ...              ...          ...           ...   \n",
       "8063  464018   22              0.0          7.0             3   \n",
       "8064  464685   35              3.0          4.0             3   \n",
       "8065  465406   33              1.0          1.0             3   \n",
       "8066  467299   27              1.0          4.0             1   \n",
       "8067  461879   37              0.0          3.0             1   \n",
       "\n",
       "      spending_score_enc  var_enc  gender_Male  ever_married_Yes   \n",
       "0                    0.0      3.0         True             False  \\\n",
       "1                    1.0      3.0        False              True   \n",
       "2                    0.0      5.0        False              True   \n",
       "3                    2.0      5.0         True              True   \n",
       "4                    2.0      5.0        False              True   \n",
       "...                  ...      ...          ...               ...   \n",
       "8063                 0.0      0.0         True             False   \n",
       "8064                 0.0      3.0         True             False   \n",
       "8065                 0.0      5.0        False             False   \n",
       "8066                 0.0      5.0        False             False   \n",
       "8067                 1.0      3.0         True              True   \n",
       "\n",
       "      graduated_Yes  profession_Doctor  profession_Engineer   \n",
       "0             False              False                False  \\\n",
       "1              True              False                 True   \n",
       "2              True              False                 True   \n",
       "3              True              False                False   \n",
       "4              True              False                False   \n",
       "...             ...                ...                  ...   \n",
       "8063          False              False                False   \n",
       "8064          False              False                False   \n",
       "8065           True              False                False   \n",
       "8066           True              False                False   \n",
       "8067           True              False                False   \n",
       "\n",
       "      profession_Entertainment  profession_Executive  profession_Healthcare   \n",
       "0                        False                 False                   True  \\\n",
       "1                        False                 False                  False   \n",
       "2                        False                 False                  False   \n",
       "3                        False                 False                  False   \n",
       "4                         True                 False                  False   \n",
       "...                        ...                   ...                    ...   \n",
       "8063                     False                 False                  False   \n",
       "8064                     False                  True                  False   \n",
       "8065                     False                 False                   True   \n",
       "8066                     False                 False                   True   \n",
       "8067                     False                  True                  False   \n",
       "\n",
       "      profession_Homemaker  profession_Lawyer  profession_Marketing   \n",
       "0                    False              False                 False  \\\n",
       "1                    False              False                 False   \n",
       "2                    False              False                 False   \n",
       "3                    False               True                 False   \n",
       "4                    False              False                 False   \n",
       "...                    ...                ...                   ...   \n",
       "8063                 False              False                 False   \n",
       "8064                 False              False                 False   \n",
       "8065                 False              False                 False   \n",
       "8066                 False              False                 False   \n",
       "8067                 False              False                 False   \n",
       "\n",
       "      profession_unknown  \n",
       "0                  False  \n",
       "1                  False  \n",
       "2                  False  \n",
       "3                  False  \n",
       "4                  False  \n",
       "...                  ...  \n",
       "8063                True  \n",
       "8064               False  \n",
       "8065               False  \n",
       "8066               False  \n",
       "8067               False  \n",
       "\n",
       "[8068 rows x 19 columns]"
      ]
     },
     "execution_count": 39,
     "metadata": {},
     "output_type": "execute_result"
    }
   ],
   "source": [
    "data"
   ]
  },
  {
   "cell_type": "code",
   "execution_count": 40,
   "id": "a62253ae-2182-4e95-94db-791d7383c29f",
   "metadata": {},
   "outputs": [],
   "source": [
    "data.drop(columns=['id'], inplace=True)"
   ]
  },
  {
   "cell_type": "code",
   "execution_count": 41,
   "id": "72d6ef3a-763b-4456-9ff2-9ee8bfdb7851",
   "metadata": {},
   "outputs": [],
   "source": [
    "data.to_csv('../data/cleaned/train.csv')"
   ]
  },
  {
   "cell_type": "markdown",
   "id": "215f1869-770c-4fba-adee-1a24a2bf16fa",
   "metadata": {},
   "source": [
    "## Split data into X and y"
   ]
  },
  {
   "cell_type": "code",
   "execution_count": 42,
   "id": "978ac752-828a-4498-a463-f796a2b10db7",
   "metadata": {},
   "outputs": [],
   "source": [
    "X = data.drop(columns=['segmentation'])"
   ]
  },
  {
   "cell_type": "code",
   "execution_count": 43,
   "id": "64024d8d-65b1-4e6f-a739-2cbed178641c",
   "metadata": {},
   "outputs": [],
   "source": [
    "y = data['segmentation']"
   ]
  },
  {
   "cell_type": "code",
   "execution_count": 44,
   "id": "5d6a239b-47ed-4106-970a-b38dbd377669",
   "metadata": {},
   "outputs": [],
   "source": [
    "X_train, X_test, y_train, y_test = train_test_split(X, y, test_size=0.2, random_state=42)"
   ]
  },
  {
   "cell_type": "markdown",
   "id": "a0ed9767-387b-4d5f-b59c-be309ebdd430",
   "metadata": {
    "tags": []
   },
   "source": [
    "## Scaling features"
   ]
  },
  {
   "cell_type": "code",
   "execution_count": 45,
   "id": "08150c72-b8d3-4370-87f3-3750158fd133",
   "metadata": {},
   "outputs": [],
   "source": [
    "%run ../scalers/standard_scaler.ipynb"
   ]
  },
  {
   "cell_type": "code",
   "execution_count": 46,
   "id": "321400e6-9f1a-47a4-abc1-2eb749c3c72b",
   "metadata": {},
   "outputs": [],
   "source": [
    "X_train = my_scaler(X_train)"
   ]
  },
  {
   "cell_type": "code",
   "execution_count": 47,
   "id": "1dec67b8-e65e-4169-a842-e5ebfb47acd8",
   "metadata": {},
   "outputs": [],
   "source": [
    "X_test = my_scaler(X_test)"
   ]
  },
  {
   "cell_type": "markdown",
   "id": "6bd6f6d9-77d2-49b1-8f72-1372d4a57987",
   "metadata": {
    "tags": []
   },
   "source": [
    "## Evaluate models"
   ]
  },
  {
   "cell_type": "code",
   "execution_count": 55,
   "id": "77d88edc-cc45-4957-b399-ec5d4bf4392b",
   "metadata": {},
   "outputs": [],
   "source": [
    "%run ../models/random_classifier.ipynb\n",
    "%run ../models/random_classifier_tuned.ipynb\n",
    "%run ../models/knn_classifier.ipynb\n",
    "%run ../models/knn_classifier_tuned.ipynb"
   ]
  },
  {
   "cell_type": "markdown",
   "id": "c27c7080-0d1c-4192-a90d-63ac48b2a607",
   "metadata": {},
   "source": [
    "### Random Forest"
   ]
  },
  {
   "cell_type": "code",
   "execution_count": 49,
   "id": "8c7d3f9e-b02b-4976-a0bc-ce9764b299b5",
   "metadata": {},
   "outputs": [],
   "source": [
    "accuracy_rf, report_rf, confusion_mtx_rf = random_clf(X_train, X_test, y_train, y_test)"
   ]
  },
  {
   "cell_type": "code",
   "execution_count": 50,
   "id": "fd1ccf29-46e9-4c80-b93a-d433dbf98cb5",
   "metadata": {},
   "outputs": [
    {
     "name": "stdout",
     "output_type": "stream",
     "text": [
      "\n",
      "Random Forest Model:\n",
      "Accuracy: 0.47026022304832715\n",
      "Classification Report:\n",
      "              precision    recall  f1-score   support\n",
      "\n",
      "           0       0.36      0.36      0.36       391\n",
      "           1       0.36      0.35      0.35       369\n",
      "           2       0.48      0.47      0.48       380\n",
      "           3       0.63      0.65      0.64       474\n",
      "\n",
      "    accuracy                           0.47      1614\n",
      "   macro avg       0.46      0.46      0.46      1614\n",
      "weighted avg       0.47      0.47      0.47      1614\n",
      "\n"
     ]
    }
   ],
   "source": [
    "print(\"\\nRandom Forest Model:\")\n",
    "print(f\"Accuracy: {accuracy_rf}\")\n",
    "print(f\"Classification Report:\\n{report_rf}\")"
   ]
  },
  {
   "cell_type": "markdown",
   "id": "b40a994b-0cea-48e8-a6ab-eefbf291b1ec",
   "metadata": {},
   "source": [
    "### Random Forest Tuned"
   ]
  },
  {
   "cell_type": "code",
   "execution_count": 53,
   "id": "33662e6b-3a1e-4a8f-a4df-6a4394af0460",
   "metadata": {},
   "outputs": [],
   "source": [
    "accuracy_rf_tuned, report_rf_tuned, confusion_mtx_rf_tuned = rf_tuned(X_train, X_test, y_train, y_test)"
   ]
  },
  {
   "cell_type": "code",
   "execution_count": 54,
   "id": "96f575ad-da77-49d4-9234-75c41b71626c",
   "metadata": {},
   "outputs": [
    {
     "name": "stdout",
     "output_type": "stream",
     "text": [
      "\n",
      "Random Forest Tuned Model:\n",
      "Accuracy: 0.5123915737298637\n",
      "Classification Report:\n",
      "              precision    recall  f1-score   support\n",
      "\n",
      "           0       0.42      0.42      0.42       391\n",
      "           1       0.40      0.33      0.36       369\n",
      "           2       0.51      0.53      0.52       380\n",
      "           3       0.64      0.72      0.68       474\n",
      "\n",
      "    accuracy                           0.51      1614\n",
      "   macro avg       0.49      0.50      0.49      1614\n",
      "weighted avg       0.50      0.51      0.51      1614\n",
      "\n"
     ]
    }
   ],
   "source": [
    "print(\"\\nRandom Forest Tuned Model:\")\n",
    "print(f\"Accuracy: {accuracy_rf_tuned}\")\n",
    "print(f\"Classification Report:\\n{report_rf_tuned}\")"
   ]
  },
  {
   "cell_type": "markdown",
   "id": "16cfc4ee-2229-4346-9c49-5780a058c49a",
   "metadata": {},
   "source": [
    "### KNN "
   ]
  },
  {
   "cell_type": "code",
   "execution_count": 56,
   "id": "8843430d-8ca0-4542-a9f6-0e78981a9dc5",
   "metadata": {},
   "outputs": [],
   "source": [
    "accuracy_knn, report_knn, confusion_mtx_knn = knn_clf(X_train, X_test, y_train, y_test)"
   ]
  },
  {
   "cell_type": "code",
   "execution_count": 57,
   "id": "98bd7d73-b2a0-4af5-8db8-18badc7d612a",
   "metadata": {},
   "outputs": [
    {
     "name": "stdout",
     "output_type": "stream",
     "text": [
      "\n",
      "K-Nearest Neighbors (KNN) Model:\n",
      "Accuracy: 0.46592317224287483\n",
      "Classification Report:\n",
      "              precision    recall  f1-score   support\n",
      "\n",
      "           0       0.36      0.43      0.39       391\n",
      "           1       0.35      0.35      0.35       369\n",
      "           2       0.47      0.45      0.46       380\n",
      "           3       0.68      0.60      0.64       474\n",
      "\n",
      "    accuracy                           0.47      1614\n",
      "   macro avg       0.47      0.46      0.46      1614\n",
      "weighted avg       0.48      0.47      0.47      1614\n",
      "\n"
     ]
    }
   ],
   "source": [
    "print(\"\\nK-Nearest Neighbors (KNN) Model:\")\n",
    "print(f\"Accuracy: {accuracy_knn}\")\n",
    "print(f\"Classification Report:\\n{report_knn}\")"
   ]
  },
  {
   "cell_type": "markdown",
   "id": "1ef13572-bce8-4222-a9de-99d01e8b8fe2",
   "metadata": {},
   "source": [
    "### KNN Tuned"
   ]
  },
  {
   "cell_type": "code",
   "execution_count": 58,
   "id": "b585d34e-bb2a-4c87-89e5-dae6113c4b7f",
   "metadata": {},
   "outputs": [],
   "source": [
    "accuracy_knn_tuned, report_knn_tuned, confusion_mtx_knn_tuned = knn_tuned(X_train, X_test, y_train, y_test)"
   ]
  },
  {
   "cell_type": "code",
   "execution_count": 59,
   "id": "362e8506-d6df-47e7-91d6-cc50563b3902",
   "metadata": {},
   "outputs": [
    {
     "name": "stdout",
     "output_type": "stream",
     "text": [
      "\n",
      "K-Nearest Neighbors (KNN) Tuned Model:\n",
      "Accuracy: 0.49318463444857497\n",
      "Classification Report:\n",
      "              precision    recall  f1-score   support\n",
      "\n",
      "           0       0.38      0.40      0.39       391\n",
      "           1       0.40      0.34      0.37       369\n",
      "           2       0.50      0.51      0.51       380\n",
      "           3       0.64      0.68      0.66       474\n",
      "\n",
      "    accuracy                           0.49      1614\n",
      "   macro avg       0.48      0.48      0.48      1614\n",
      "weighted avg       0.49      0.49      0.49      1614\n",
      "\n"
     ]
    }
   ],
   "source": [
    "print(\"\\nK-Nearest Neighbors (KNN) Tuned Model:\")\n",
    "print(f\"Accuracy: {accuracy_knn_tuned}\")\n",
    "print(f\"Classification Report:\\n{report_knn_tuned}\")"
   ]
  },
  {
   "cell_type": "code",
   "execution_count": null,
   "id": "a85d6af6-b910-4ac1-bf00-f283182a6737",
   "metadata": {},
   "outputs": [],
   "source": []
  }
 ],
 "metadata": {
  "kernelspec": {
   "display_name": "bootcamp",
   "language": "python",
   "name": "bootcamp"
  },
  "language_info": {
   "codemirror_mode": {
    "name": "ipython",
    "version": 3
   },
   "file_extension": ".py",
   "mimetype": "text/x-python",
   "name": "python",
   "nbconvert_exporter": "python",
   "pygments_lexer": "ipython3",
   "version": "3.9.2"
  }
 },
 "nbformat": 4,
 "nbformat_minor": 5
}
