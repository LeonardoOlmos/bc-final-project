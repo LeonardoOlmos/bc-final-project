{
 "cells": [
  {
   "cell_type": "markdown",
   "id": "185dcbf7-a97b-44d8-8712-1161f22b4f7e",
   "metadata": {},
   "source": [
    "# Standard Scaler"
   ]
  },
  {
   "cell_type": "code",
   "execution_count": 2,
   "id": "a9e1cedb-2ade-41a6-8d0e-55f843047f42",
   "metadata": {},
   "outputs": [],
   "source": [
    "from sklearn.preprocessing import StandardScaler"
   ]
  },
  {
   "cell_type": "code",
   "execution_count": 3,
   "id": "6b41d23c-0954-4cee-a0e0-43898075538e",
   "metadata": {},
   "outputs": [],
   "source": [
    "def my_scaler(df):\n",
    "    scaler = StandardScaler()\n",
    "    scaled_df = scaler.fit_transform(df)\n",
    "    return scaled_df"
   ]
  },
  {
   "cell_type": "code",
   "execution_count": null,
   "id": "20ac39a4-6cfa-4bc3-bed5-f63b7c297e08",
   "metadata": {},
   "outputs": [],
   "source": []
  }
 ],
 "metadata": {
  "kernelspec": {
   "display_name": "final-project",
   "language": "python",
   "name": "final-project"
  },
  "language_info": {
   "codemirror_mode": {
    "name": "ipython",
    "version": 3
   },
   "file_extension": ".py",
   "mimetype": "text/x-python",
   "name": "python",
   "nbconvert_exporter": "python",
   "pygments_lexer": "ipython3",
   "version": "3.9.2"
  }
 },
 "nbformat": 4,
 "nbformat_minor": 5
}
